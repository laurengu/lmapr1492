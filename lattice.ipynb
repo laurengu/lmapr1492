{
 "cells": [
  {
   "cell_type": "code",
   "execution_count": 15,
   "id": "7eab2b96",
   "metadata": {},
   "outputs": [],
   "source": [
    "from pymatgen import Structure\n",
    "from pymatgen.ext.matproj import MPRester\n",
    "with MPRester(\"ZPSKgimujRNFyTRi\") as m:\n",
    "\n",
    "    # Structure for material id\n",
    "    structure = m.get_structure_by_material_id(\"mp-961687\")"
   ]
  },
  {
   "cell_type": "code",
   "execution_count": 9,
   "id": "cee8cb0f",
   "metadata": {},
   "outputs": [],
   "source": [
    "from pymatgen.symmetry.analyzer import SpacegroupAnalyzer\n",
    "\n",
    "#Création d'un objet SpaceGroupAnalyzer\n",
    "struct = SpacegroupAnalyzer(structure)\n",
    "new_s=SpacegroupAnalyzer(structure).get_primitive_standard_structure()"
   ]
  },
  {
   "cell_type": "code",
   "execution_count": 10,
   "id": "9ab81ecc",
   "metadata": {},
   "outputs": [
    {
     "name": "stdout",
     "output_type": "stream",
     "text": [
      "4.529291876717375 4.529291876717375 4.529291876717376 1.6990070833210216 1.6990070833210218 1.6990070833210218\n"
     ]
    }
   ],
   "source": [
    "#Obtenir les vecteurs des réseaux direct et réciproque\n",
    "#1 réseau direct :\n",
    "resd = new_s.lattice\n",
    "a = resd.a\n",
    "b = resd.b\n",
    "c = resd.c\n",
    "#2 réseau réciproque :\n",
    "resrec = resd.reciprocal_lattice\n",
    "aa = resrec.a\n",
    "bb = resrec.b\n",
    "cc = resrec.c\n",
    "print (a,b,c,aa,bb,cc)"
   ]
  },
  {
   "cell_type": "markdown",
   "id": "44856672",
   "metadata": {},
   "source": [
    "# Vecteurs\n",
    "Les vecteurs de bases des ses réseaux direct et réciproque sont donnés par les paramètres a,b,c et a*,b*,c* respectivement :\n",
    "***\n",
    "* Réseau direct :\n",
    "a = 4.529291876717375 angström \n",
    "b = 4.529291876717375 angström\n",
    "c = 4.529291876717376 angström\n",
    "* Réseau réciproque :\n",
    "a* = 1.6990070833210216 angström\n",
    "b* = 1.6990070833210218 angström\n",
    "c* = 1.6990070833210218 angström"
   ]
  },
  {
   "cell_type": "code",
   "execution_count": 12,
   "id": "948a3c14",
   "metadata": {},
   "outputs": [
    {
     "name": "stdout",
     "output_type": "stream",
     "text": [
      "cubic\n"
     ]
    }
   ],
   "source": [
    "#Type de maille\n",
    "maille = struct.get_lattice_type()\n",
    "print(maille)"
   ]
  },
  {
   "cell_type": "markdown",
   "id": "34528fa3",
   "metadata": {},
   "source": [
    "# Type de maille\n",
    "Le type de maille est déterminé à l'aide de la fonction get_lattice_type(). \n",
    "***\n",
    "La maille de ce cristal est cubique."
   ]
  },
  {
   "cell_type": "code",
   "execution_count": 13,
   "id": "ec011052",
   "metadata": {},
   "outputs": [
    {
     "name": "stdout",
     "output_type": "stream",
     "text": [
      "cubic\n"
     ]
    }
   ],
   "source": [
    "#Système Crtistallin \n",
    "système = struct.get_crystal_system()\n",
    "print(système)"
   ]
  },
  {
   "cell_type": "markdown",
   "id": "9915d2c8",
   "metadata": {},
   "source": [
    "# Système Cristallin \n",
    "Le système est déterminé à l'aide de la fonction get_crystal_system().\n",
    "***\n",
    "Le système est cubique"
   ]
  },
  {
   "cell_type": "code",
   "execution_count": 16,
   "id": "c674b812",
   "metadata": {},
   "outputs": [
    {
     "name": "stdout",
     "output_type": "stream",
     "text": [
      "-43m\n"
     ]
    }
   ],
   "source": [
    "#Groupe ponctuel\n",
    "GP = struct.get_point_group_symbol()\n",
    "print(GP)"
   ]
  },
  {
   "cell_type": "markdown",
   "id": "be853b61",
   "metadata": {},
   "source": [
    "# Groupe Ponctuel\n",
    "Le groupe ponctuel est déterminé grâce à la fonction get_point_group_symbol()\n",
    "***\n",
    "Le groupe ponctuel de ce cristal est : F -4 3 m\n"
   ]
  }
 ],
 "metadata": {
  "kernelspec": {
   "display_name": "Python 3",
   "language": "python",
   "name": "python3"
  },
  "language_info": {
   "codemirror_mode": {
    "name": "ipython",
    "version": 3
   },
   "file_extension": ".py",
   "mimetype": "text/x-python",
   "name": "python",
   "nbconvert_exporter": "python",
   "pygments_lexer": "ipython3",
   "version": "3.6.8"
  }
 },
 "nbformat": 4,
 "nbformat_minor": 5
}
