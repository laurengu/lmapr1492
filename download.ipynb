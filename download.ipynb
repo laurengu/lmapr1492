from pymatgen import Structure
from pymatgen.ext.matproj import MPRester
with MPRester("ZPSKgimujRNFyTRi") as m:

    # Structure for material id
    structure = m.get_structure_by_material_id("mp-961687")
